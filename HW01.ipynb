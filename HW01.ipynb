{
 "cells": [
  {
   "cell_type": "markdown",
   "id": "d4cfca5f",
   "metadata": {},
   "source": [
    "## Задание 1:\n",
    "На складе лежат разные фрукты в разном количестве.\n",
    "Нужно написать функцию, которая на вход принимает любое количество названий фруктов и их количество, а возвращает общее количество фруктов на складе"
   ]
  },
  {
   "cell_type": "code",
   "execution_count": 3,
   "id": "35b0042e",
   "metadata": {},
   "outputs": [
    {
     "data": {
      "text/plain": [
       "69"
      ]
     },
     "execution_count": 3,
     "metadata": {},
     "output_type": "execute_result"
    }
   ],
   "source": [
    "def sum_fruits(fruit: dict) -> int:\n",
    "    my_list = fruit.values()\n",
    "    sum = 0\n",
    "    for i in my_list:\n",
    "        sum  = sum + i\n",
    "    return sum\n",
    "        \n",
    "sum_fruits({'яблоки': 20, 'бананы': 15, 'апельсины': 34})\n"
   ]
  },
  {
   "cell_type": "markdown",
   "id": "c6760019",
   "metadata": {},
   "source": [
    "## Задание 2:\n",
    "Дан список с затратами на рекламу. Но в данных есть ошибки, некоторые затраты имеют отрицательную величину. Удалите такие значения из списка и посчитайте суммарные затраты\n",
    "[100, 125, -90, 345, 655, -1, 0, 200]\n",
    "Используйте list comprehensions"
   ]
  },
  {
   "cell_type": "code",
   "execution_count": 6,
   "id": "5d8486be",
   "metadata": {},
   "outputs": [
    {
     "data": {
      "text/plain": [
       "[100, 125, 345, 655, 0, 200]"
      ]
     },
     "execution_count": 6,
     "metadata": {},
     "output_type": "execute_result"
    }
   ],
   "source": [
    "expenses =  [100, 125, -90, 345, 655, -1, 0, 200]\n",
    "right_expenses = [i for i in expenses if i >= 0]\n",
    "right_expenses"
   ]
  },
  {
   "cell_type": "markdown",
   "id": "632f9f63",
   "metadata": {},
   "source": [
    "## Задание 3:\n",
    "Даны два списка.\n",
    "Дата покупки\n",
    "\n",
    "['2021-09-14', '2021-12-15', '2021-09-08', '2021-12-05', '2021-10-09', '2021-09-30', '2021-12-22', '2021-11-29', '2021-12-24', '2021-11-26', '2021-10-27', '2021-12-18', '2021-11-09', '2021-11-23', '2021-09-27', '2021-10-02', '2021-12-27', '2021-09-20', '2021-12-13', '2021-11-01', '2021-11-09', '2021-12-06', '2021-12-08', '2021-10-09', '2021-10-31', '2021-09-30', '2021-11-09', '2021-12-13', '2021-10-26', '2021-12-09']\n",
    "\n",
    "Суммы покупок по датам\n",
    "\n",
    "[1270, 8413, 9028, 3703, 5739, 4095, 295, 4944, 5723, 3701, 4471, 651, 7037, 4274, 6275, 4988, 6930, 2971, 6592, 2004, 2822, 519, 3406, 2732, 5015, 2008, 316, 6333, 5700, 2887]\n",
    "\n",
    "### Задание 3.1\n",
    "Найдите, какая выручка у компании в ноябре\n",
    "Используйте list comprehensions"
   ]
  },
  {
   "cell_type": "code",
   "execution_count": 28,
   "id": "d3297ca2",
   "metadata": {},
   "outputs": [
    {
     "name": "stdout",
     "output_type": "stream",
     "text": [
      "[4944, 3701, 7037, 4274, 2004, 2822, 316]\n",
      "Сумма за ноябрь: 25098\n"
     ]
    }
   ],
   "source": [
    "my_date = ['2021-09-14', '2021-12-15', '2021-09-08', '2021-12-05', '2021-10-09', '2021-09-30', '2021-12-22', '2021-11-29', '2021-12-24', '2021-11-26', '2021-10-27', '2021-12-18', '2021-11-09', '2021-11-23', '2021-09-27', '2021-10-02', '2021-12-27', '2021-09-20', '2021-12-13', '2021-11-01', '2021-11-09', '2021-12-06', '2021-12-08', '2021-10-09', '2021-10-31', '2021-09-30', '2021-11-09', '2021-12-13', '2021-10-26', '2021-12-09']\n",
    "price = [1270, 8413, 9028, 3703, 5739, 4095, 295, 4944, 5723, 3701, 4471, 651, 7037, 4274, 6275, 4988, 6930, 2971, 6592, 2004, 2822, 519, 3406, 2732, 5015, 2008, 316, 6333, 5700, 2887]\n",
    "\n",
    "price_nov = [price[i] for i in range(len(my_date)) if my_date[i].split('-')[1] == '11' ]\n",
    "print(price_nov)\n",
    "print(f'Сумма за ноябрь: {sum(price_nov)}')"
   ]
  },
  {
   "cell_type": "markdown",
   "id": "a003ae3e",
   "metadata": {},
   "source": [
    "### Задание 3.2\n",
    "Найдите выручку компании в зависимости от месяца\n",
    "Для этого напишите функцию, которая на вход принимает список с датами и список с выручкой, а на выходе словарь, где ключи - это месяцы, а значения - это выручка.\n",
    "Используйте аннотирование типов."
   ]
  },
  {
   "cell_type": "code",
   "execution_count": 36,
   "id": "0f9a7bf1",
   "metadata": {},
   "outputs": [
    {
     "data": {
      "text/plain": [
       "{'09': 25647, '12': 45452, '10': 28645, '11': 25098}"
      ]
     },
     "execution_count": 36,
     "metadata": {},
     "output_type": "execute_result"
    }
   ],
   "source": [
    "def revenu(data_list: list, revenu_list: list) -> int:\n",
    "    new_dict = {}\n",
    "    for i in range(len(data_list)):\n",
    "        month = data_list[i].split('-')[1]\n",
    "        if new_dict.get(month) is None:\n",
    "            new_dict[month] = revenu_list[i]\n",
    "        else:\n",
    "            new_dict[month] = new_dict.get(month) + revenu_list[i]\n",
    "    return new_dict\n",
    "\n",
    "revenu(my_date, price)"
   ]
  },
  {
   "cell_type": "code",
   "execution_count": null,
   "id": "6aabf3b8",
   "metadata": {},
   "outputs": [],
   "source": []
  }
 ],
 "metadata": {
  "kernelspec": {
   "display_name": "Python 3 (ipykernel)",
   "language": "python",
   "name": "python3"
  },
  "language_info": {
   "codemirror_mode": {
    "name": "ipython",
    "version": 3
   },
   "file_extension": ".py",
   "mimetype": "text/x-python",
   "name": "python",
   "nbconvert_exporter": "python",
   "pygments_lexer": "ipython3",
   "version": "3.9.13"
  }
 },
 "nbformat": 4,
 "nbformat_minor": 5
}
